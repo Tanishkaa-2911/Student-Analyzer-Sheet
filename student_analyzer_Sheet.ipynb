{
 "cells": [
  {
   "cell_type": "code",
   "execution_count": 58,
   "id": "714ce3a0-1ff5-44cf-affa-0bc008d359fc",
   "metadata": {},
   "outputs": [],
   "source": [
    "import pandas as pd"
   ]
  },
  {
   "cell_type": "code",
   "execution_count": 59,
   "id": "3af913e2-c749-4bfb-aae6-e8e3d6071cdd",
   "metadata": {},
   "outputs": [
    {
     "name": "stdout",
     "output_type": "stream",
     "text": [
      "     Name  Math  Science  English\n",
      "0  Aakash    78       85       72\n",
      "1   Beena    29       88       91\n",
      "2  Chirag    66       70       68\n",
      "3   Disha    89       95      100\n",
      "4    Esha    75       80       77\n",
      "5    Tanu    99       98       98\n",
      "6    Rutu    90      100       97\n"
     ]
    }
   ],
   "source": [
    "df=pd.read_csv(\"stud_marks.csv\")\n",
    "print(df)"
   ]
  },
  {
   "cell_type": "code",
   "execution_count": 69,
   "id": "89d5b06f-7681-4a2f-9240-c5fb91636902",
   "metadata": {},
   "outputs": [],
   "source": [
    "m_mean=int(df['Math'].mean())"
   ]
  },
  {
   "cell_type": "code",
   "execution_count": 70,
   "id": "f2e44301-facd-4dd1-961d-f825f866b057",
   "metadata": {},
   "outputs": [],
   "source": [
    "s_mean=int(df['Science'].mean())"
   ]
  },
  {
   "cell_type": "code",
   "execution_count": 71,
   "id": "1a37845c-95b2-4b56-af40-ec60cf619078",
   "metadata": {},
   "outputs": [],
   "source": [
    "e_mean=int(df[\"English\"].mean())"
   ]
  },
  {
   "cell_type": "code",
   "execution_count": 63,
   "id": "b5671a35-3826-468e-8144-12f809f2b4f3",
   "metadata": {},
   "outputs": [],
   "source": [
    "df[\"Total\"]=df[['Math','Science','English']].sum(axis=1)"
   ]
  },
  {
   "cell_type": "code",
   "execution_count": 64,
   "id": "fe52d8dd-c70c-4aa5-a328-a194892ee1ee",
   "metadata": {},
   "outputs": [
    {
     "name": "stdout",
     "output_type": "stream",
     "text": [
      "     Name  Math  Science  English  Total\n",
      "0  Aakash    78       85       72    235\n",
      "1   Beena    29       88       91    208\n",
      "2  Chirag    66       70       68    204\n",
      "3   Disha    89       95      100    284\n",
      "4    Esha    75       80       77    232\n",
      "5    Tanu    99       98       98    295\n",
      "6    Rutu    90      100       97    287\n"
     ]
    }
   ],
   "source": [
    "print(df)"
   ]
  },
  {
   "cell_type": "code",
   "execution_count": 65,
   "id": "c575adbd-5914-4a80-9a45-84bd8f71ed61",
   "metadata": {},
   "outputs": [],
   "source": [
    "m=int(df['Math'].max())\n",
    "s=int(df['Science'].max())\n",
    "e=int(df['English'].max())\n"
   ]
  },
  {
   "cell_type": "code",
   "execution_count": 66,
   "id": "e9277bf2-3850-4895-be9f-fba86d7e4985",
   "metadata": {},
   "outputs": [],
   "source": [
    "m_id=df['Math'].idxmax()\n",
    "m_topper=df.loc[m_id,'Name']\n",
    "s_id=df['Science'].idxmax()\n",
    "s_topper=df.loc[s_id,'Name']\n",
    "e_id=df['English'].idxmax()\n",
    "e_topper=df.loc[e_id,'Name']"
   ]
  },
  {
   "cell_type": "code",
   "execution_count": 67,
   "id": "ad9d6c30-e9e4-4f63-b000-aaf9d6979bfb",
   "metadata": {},
   "outputs": [
    {
     "name": "stdout",
     "output_type": "stream",
     "text": [
      "Maths Topper marks :  99\n",
      "Maths Topper name :  Tanu\n",
      "Science Topper marks :  100\n",
      "Science Topper name :  Rutu\n",
      "English Topper marks :  100\n",
      "English Topper name :  Disha\n"
     ]
    }
   ],
   "source": [
    "print(\"Maths Topper marks : \",m)\n",
    "print(\"Maths Topper name : \",m_topper)\n",
    "print(\"Science Topper marks : \",s)\n",
    "print(\"Science Topper name : \",s_topper)\n",
    "print(\"English Topper marks : \",e)\n",
    "print(\"English Topper name : \",e_topper)"
   ]
  },
  {
   "cell_type": "code",
   "execution_count": 68,
   "id": "9d9e77a1-3d88-4138-ad75-5d2fc649fd50",
   "metadata": {},
   "outputs": [],
   "source": [
    "import matplotlib.pyplot as plt"
   ]
  },
  {
   "cell_type": "code",
   "execution_count": 74,
   "id": "2d6eda95-d33c-45c4-9b33-ec1eef01374a",
   "metadata": {},
   "outputs": [
    {
     "data": {
      "text/plain": [
       "Text(0, 0.5, 'Average')"
      ]
     },
     "execution_count": 74,
     "metadata": {},
     "output_type": "execute_result"
    },
    {
     "data": {
      "image/png": "[encoded data removed]",
      "text/plain": [
       "<Figure size 640x480 with 1 Axes>"
      ]
     },
     "metadata": {},
     "output_type": "display_data"
    }
   ],
   "source": [
    "x=['Maths','Science','English']\n",
    "y=[m_mean,s_mean,e_mean]\n",
    "plt.bar(x,y)\n",
    "plt.title(\"Average marks per subject\")\n",
    "plt.xlabel(\"Subjects\")\n",
    "plt.ylabel(\"Average\")"
   ]
  },
  {
   "cell_type": "code",
   "execution_count": null,
   "id": "08c3a299-767e-4f01-bea3-62c861318a2f",
   "metadata": {},
   "outputs": [],
   "source": []
  }
 ],
 "metadata": {
  "kernelspec": {
   "display_name": "Python 3 (ipykernel)",
   "language": "python",
   "name": "python3"
  },
  "language_info": {
   "codemirror_mode": {
    "name": "ipython",
    "version": 3
   },
   "file_extension": ".py",
   "mimetype": "text/x-python",
   "name": "python",
   "nbconvert_exporter": "python",
   "pygments_lexer": "ipython3",
   "version": "3.13.3"
  }
 },
 "nbformat": 4,
 "nbformat_minor": 5
}
